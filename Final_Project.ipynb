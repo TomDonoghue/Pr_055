{
 "cells": [
  {
   "cell_type": "markdown",
   "metadata": {},
   "source": [
    "# COGS 108 - Final Project: Vehicle Stops in San Diego"
   ]
  },
  {
   "cell_type": "markdown",
   "metadata": {},
   "source": [
    "### Group Members: \n",
    "- Louise Xu (A12650425)\n",
    "- David Tay\n",
    "- Jeffery Lu\n",
    "\n",
    "### Goal of Project:\n",
    "- To determine whether there is a correlation between the frequency of vehicle stops in San Diego and the time and locations at which they take place\n",
    "- To examine possible reasons for the correlations, if any exist \n",
    "\n",
    "### Research Question\n",
    "- Are there more vehicle stops at certain times and places than others? Does the frequency of vehicle stops vary significantly between different seasons?\n",
    "\n",
    "### Hypothesis\n",
    "- There will most likely be more traffic violations during periods of time with high traffic density (e.g. rush hour), during weekdays (when there are more people on the road who are driving to work), and during holiday seasons (since there would be more tourists and people visting family). On a broader scale, given that the population of San Diego is increasing, it reasonable to say that the number of traffic violations is also increasing at a similar rate. \n",
    "- We can also guess that the number of vehicle stops in more populated areas is greater than those in less populated areas.\n"
   ]
  },
  {
   "cell_type": "code",
   "execution_count": 1,
   "metadata": {
    "collapsed": true
   },
   "outputs": [],
   "source": [
    "# Import packages\n",
    "%matplotlib inline\n",
    "\n",
    "import pandas as pd\n",
    "import numpy as np\n",
    "import matplotlib.pyplot as plt\n",
    "import patsy\n",
    "import statsmodels.api as sm\n",
    "from scipy.stats import ttest_ind"
   ]
  },
  {
   "cell_type": "code",
   "execution_count": 6,
   "metadata": {
    "collapsed": false
   },
   "outputs": [],
   "source": [
    "# Import each vehicle stops data file into its own DataFrame\n",
    "vs_14 = pd.read_csv('vehicle_stops_2014_datasd.csv')\n",
    "vs_15 = pd.read_csv('vehicle_stops_2015_datasd.csv')\n",
    "vs_16 = pd.read_csv('vehicle_stops_2016_datasd.csv')\n",
    "vs_17 = pd.read_csv('vehicle_stops_2017_datasd.csv')\n",
    "\n",
    "# Join the data for each year together into one DataFrame\n",
    "# Note: The file for vs_17 contained two more columns (both of them empty and unnamed) than the datasets for the other years \n",
    "# These two columns were deleted on Microsoft Excel in order to successfully merge the four datasets together\n",
    "vs_all = pd.concat([vs_14, vs_15, vs_16, vs_17], ignore_index=True)\n",
    "\n",
    "#Import police regions into a DataFrame\n",
    "sd_neigh = pd.read_csv('pd_beat_neighborhoods_datasd.csv')"
   ]
  },
  {
   "cell_type": "code",
   "execution_count": 7,
   "metadata": {
    "collapsed": false
   },
   "outputs": [
    {
     "name": "stdout",
     "output_type": "stream",
     "text": [
      "(144164, 15)\n",
      "(115422, 15)\n",
      "(103051, 15)\n",
      "(28362, 15)\n"
     ]
    }
   ],
   "source": [
    "# Let's check to see how many observations are in each dataset\n",
    "# Note: vs_17 is year to date data from 2017, so there is data up to May of 2017 (the period in which this analysis is conducted)\n",
    "print(vs_14.shape)\n",
    "print(vs_15.shape)\n",
    "print(vs_16.shape)\n",
    "print(vs_17.shape)"
   ]
  },
  {
   "cell_type": "markdown",
   "metadata": {},
   "source": [
    "We can see here that the number of vehicle stops is actually *decreasing* each year between 2014 and 2016. Also, while we can not take the 2017 data into direct consideration because we only have data up to May, we can predict the total number of vehicle stops at the end of this year based on our current data (28362 stops) divided by the five months that have already passed and then multiplied by the twelve months of the year, which results in (28362)(12)/5 = 68068.8 stops. We can round up to the nearest ten thousandsth and estimate that approximately 70000 vehicle stops will happen in the year of 2017. This still follows the trend of decreasing vehicle stops in San Diego."
   ]
  },
  {
   "cell_type": "code",
   "execution_count": null,
   "metadata": {
    "collapsed": true
   },
   "outputs": [],
   "source": []
  }
 ],
 "metadata": {
  "kernelspec": {
   "display_name": "Python 3",
   "language": "python",
   "name": "python3"
  },
  "language_info": {
   "codemirror_mode": {
    "name": "ipython",
    "version": 3
   },
   "file_extension": ".py",
   "mimetype": "text/x-python",
   "name": "python",
   "nbconvert_exporter": "python",
   "pygments_lexer": "ipython3",
   "version": "3.6.0"
  }
 },
 "nbformat": 4,
 "nbformat_minor": 2
}
